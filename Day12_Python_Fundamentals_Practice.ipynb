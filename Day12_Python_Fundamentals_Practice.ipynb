{
 "cells": [
  {
   "cell_type": "code",
   "execution_count": null,
   "metadata": {},
   "outputs": [],
   "source": [
    "#Introduction to conditional statements: If.....Else------>conditions."
   ]
  },
  {
   "cell_type": "code",
   "execution_count": 3,
   "metadata": {},
   "outputs": [],
   "source": [
    "age = 19"
   ]
  },
  {
   "cell_type": "code",
   "execution_count": 4,
   "metadata": {},
   "outputs": [
    {
     "name": "stdout",
     "output_type": "stream",
     "text": [
      "you are eligible to vote\n"
     ]
    }
   ],
   "source": [
    "if age >= 18 :\n",
    "    print('you are eligible to vote')\n",
    "else:\n",
    "    print('sorry! you are not eligible t ovote yet,try next year!')"
   ]
  },
  {
   "cell_type": "code",
   "execution_count": 6,
   "metadata": {},
   "outputs": [],
   "source": [
    "age = 14"
   ]
  },
  {
   "cell_type": "code",
   "execution_count": 7,
   "metadata": {},
   "outputs": [
    {
     "name": "stdout",
     "output_type": "stream",
     "text": [
      "sorry! you are not eligible t ovote yet,try next year!\n"
     ]
    }
   ],
   "source": [
    "if age >= 18 :\n",
    "    print('you are eligible to vote')\n",
    "else:\n",
    "    print('sorry! you are not eligible t ovote yet,try next year!')"
   ]
  },
  {
   "cell_type": "code",
   "execution_count": null,
   "metadata": {},
   "outputs": [],
   "source": []
  },
  {
   "cell_type": "code",
   "execution_count": null,
   "metadata": {},
   "outputs": [],
   "source": [
    "# how to validate multiple conditions:"
   ]
  },
  {
   "cell_type": "code",
   "execution_count": null,
   "metadata": {},
   "outputs": [],
   "source": [
    "Scenario: Museum Visit:\n",
    "        \n",
    "Ticket Purchasing options:\n",
    "    \n",
    "Admission for anyone under the age 4 is free.\n",
    "\n",
    "Admission for anyone between the age 4 and 20 is 30rs\n",
    "\n",
    "Admission for anyone between the age 20 and 40 is 40rs\n",
    "\n",
    "Admission for anyone between the age 40 and above is 50rs"
   ]
  },
  {
   "cell_type": "code",
   "execution_count": null,
   "metadata": {},
   "outputs": [],
   "source": [
    "elif ------> #else if -----"
   ]
  },
  {
   "cell_type": "code",
   "execution_count": null,
   "metadata": {},
   "outputs": [],
   "source": [
    "age = 12 "
   ]
  },
  {
   "cell_type": "code",
   "execution_count": 8,
   "metadata": {},
   "outputs": [
    {
     "name": "stdout",
     "output_type": "stream",
     "text": [
      "your entry is 30rs\n"
     ]
    }
   ],
   "source": [
    "if age <= 4:\n",
    "    print('your entry is free')\n",
    "    \n",
    "elif age <=20:\n",
    "    print('your entry is 30rs')\n",
    "\n",
    "elif age <= 40:\n",
    "    print('your entry is 40rs')\n",
    "    \n",
    "else:\n",
    "    print('your entry is 50rs')  "
   ]
  },
  {
   "cell_type": "code",
   "execution_count": 10,
   "metadata": {},
   "outputs": [],
   "source": [
    "age = 35"
   ]
  },
  {
   "cell_type": "code",
   "execution_count": 11,
   "metadata": {},
   "outputs": [
    {
     "name": "stdout",
     "output_type": "stream",
     "text": [
      "your entry is 40rs\n"
     ]
    }
   ],
   "source": [
    "if age <= 4:\n",
    "    print('your entry is free')\n",
    "    \n",
    "elif age <=20:\n",
    "    print('your entry is 30rs')\n",
    "\n",
    "elif age <= 40:\n",
    "    print('your entry is 40rs')\n",
    "    \n",
    "else:\n",
    "    print('your entry is 50rs')  "
   ]
  },
  {
   "cell_type": "code",
   "execution_count": null,
   "metadata": {},
   "outputs": [],
   "source": [
    "#Introduction to user accepted input."
   ]
  },
  {
   "cell_type": "code",
   "execution_count": 12,
   "metadata": {},
   "outputs": [
    {
     "name": "stdout",
     "output_type": "stream",
     "text": [
      "tell me something, and i will repeat it back for you!Hello how are you doing ?\n",
      "Hello how are you doing ?\n"
     ]
    }
   ],
   "source": [
    "message = input(\"tell me something, and i will repeat it back for you!\")\n",
    "print(message)"
   ]
  },
  {
   "cell_type": "code",
   "execution_count": null,
   "metadata": {},
   "outputs": [],
   "source": [
    "#enhancement of the code."
   ]
  },
  {
   "cell_type": "code",
   "execution_count": 14,
   "metadata": {},
   "outputs": [
    {
     "name": "stdout",
     "output_type": "stream",
     "text": [
      "please enter your name: Raj\n",
      "\n",
      "Hello, Raj\n"
     ]
    }
   ],
   "source": [
    "name = input(\"please enter your name: \")\n",
    "\n",
    "print(f\"\\nHello, {name}\") #\\n"
   ]
  },
  {
   "cell_type": "code",
   "execution_count": 16,
   "metadata": {},
   "outputs": [],
   "source": [
    "prompt = 'if you tell us who you are, we can personalize the message for you'\n",
    "prompt += '\\ntell me your name!'"
   ]
  },
  {
   "cell_type": "code",
   "execution_count": 18,
   "metadata": {},
   "outputs": [
    {
     "name": "stdout",
     "output_type": "stream",
     "text": [
      "if you tell us who you are, we can personalize the message for you\n",
      "tell me your name!Sneha\n",
      "\n",
      "Hello, Sneha\n"
     ]
    }
   ],
   "source": [
    "name = input(prompt)\n",
    "\n",
    "print(f\"\\nHello, {name}\")"
   ]
  }
 ],
 "metadata": {
  "kernelspec": {
   "display_name": "Python 3",
   "language": "python",
   "name": "python3"
  },
  "language_info": {
   "codemirror_mode": {
    "name": "ipython",
    "version": 3
   },
   "file_extension": ".py",
   "mimetype": "text/x-python",
   "name": "python",
   "nbconvert_exporter": "python",
   "pygments_lexer": "ipython3",
   "version": "3.7.6"
  }
 },
 "nbformat": 4,
 "nbformat_minor": 4
}
