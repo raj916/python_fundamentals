{
 "cells": [
  {
   "cell_type": "code",
   "execution_count": 2,
   "metadata": {},
   "outputs": [],
   "source": [
    "#Introduction to for loops:"
   ]
  },
  {
   "cell_type": "code",
   "execution_count": 6,
   "metadata": {},
   "outputs": [],
   "source": [
    "student_names = ['Raj','Sam','Sundar','Sushma','Navya','Rajendar']"
   ]
  },
  {
   "cell_type": "code",
   "execution_count": 7,
   "metadata": {},
   "outputs": [
    {
     "name": "stdout",
     "output_type": "stream",
     "text": [
      "['Raj', 'Sam', 'Sundar', 'Sushma', 'Navya', 'Rajendar']\n"
     ]
    }
   ],
   "source": [
    "print(student_names)"
   ]
  },
  {
   "cell_type": "code",
   "execution_count": 8,
   "metadata": {},
   "outputs": [
    {
     "data": {
      "text/plain": [
       "list"
      ]
     },
     "execution_count": 8,
     "metadata": {},
     "output_type": "execute_result"
    }
   ],
   "source": [
    "type(student_names)"
   ]
  },
  {
   "cell_type": "code",
   "execution_count": 9,
   "metadata": {},
   "outputs": [],
   "source": [
    "#Requirment:"
   ]
  },
  {
   "cell_type": "code",
   "execution_count": 17,
   "metadata": {},
   "outputs": [
    {
     "name": "stdout",
     "output_type": "stream",
     "text": [
      "keep up the good work, Raj\n"
     ]
    }
   ],
   "source": [
    "print(f\"keep up the good work, {student_names[0]}\")"
   ]
  },
  {
   "cell_type": "code",
   "execution_count": 18,
   "metadata": {},
   "outputs": [
    {
     "name": "stdout",
     "output_type": "stream",
     "text": [
      "keep up the good work, Sam\n"
     ]
    }
   ],
   "source": [
    "print(f\"keep up the good work, {student_names[1]}\")"
   ]
  },
  {
   "cell_type": "code",
   "execution_count": 19,
   "metadata": {},
   "outputs": [
    {
     "name": "stdout",
     "output_type": "stream",
     "text": [
      "keep up the good work, Sundar\n"
     ]
    }
   ],
   "source": [
    "print(f\"keep up the good work, {student_names[2]}\")"
   ]
  },
  {
   "cell_type": "code",
   "execution_count": 13,
   "metadata": {},
   "outputs": [
    {
     "name": "stdout",
     "output_type": "stream",
     "text": [
      "['Raj', 'Sam', 'Sundar', 'Sushma', 'Navya', 'Rajendar']\n"
     ]
    }
   ],
   "source": [
    "print(student_names)"
   ]
  },
  {
   "cell_type": "code",
   "execution_count": null,
   "metadata": {},
   "outputs": [],
   "source": [
    "#Implementation of a for loop:"
   ]
  },
  {
   "cell_type": "code",
   "execution_count": 16,
   "metadata": {},
   "outputs": [
    {
     "name": "stdout",
     "output_type": "stream",
     "text": [
      "keep up the good work, Raj\n",
      "keep up the good work, Sam\n",
      "keep up the good work, Sundar\n",
      "keep up the good work, Sushma\n",
      "keep up the good work, Navya\n",
      "keep up the good work, Rajendar\n"
     ]
    }
   ],
   "source": [
    "for student in student_names:\n",
    "    print(f\"keep up the good work, {student}\")"
   ]
  },
  {
   "cell_type": "code",
   "execution_count": null,
   "metadata": {},
   "outputs": [],
   "source": [
    "#General syntax of a for loop:"
   ]
  },
  {
   "cell_type": "code",
   "execution_count": null,
   "metadata": {},
   "outputs": [],
   "source": [
    "for tempvar in mainvar:\n",
    "    print(tempvar) # Indentation..."
   ]
  },
  {
   "cell_type": "code",
   "execution_count": 20,
   "metadata": {},
   "outputs": [
    {
     "name": "stdout",
     "output_type": "stream",
     "text": [
      "keep up the good work, Raj\n",
      "keep up the good work, Sam\n",
      "keep up the good work, Sundar\n",
      "keep up the good work, Sushma\n",
      "keep up the good work, Navya\n",
      "keep up the good work, Rajendar\n"
     ]
    }
   ],
   "source": [
    "for x in student_names:\n",
    "    print(f\"keep up the good work, {x}\")"
   ]
  },
  {
   "cell_type": "code",
   "execution_count": null,
   "metadata": {},
   "outputs": [],
   "source": [
    "for tempvar in mainvar:\n",
    "    print(tempvar)"
   ]
  },
  {
   "cell_type": "code",
   "execution_count": 21,
   "metadata": {},
   "outputs": [
    {
     "name": "stdout",
     "output_type": "stream",
     "text": [
      "keep up the good work, Raj\n",
      "keep up the good work, Sam\n",
      "keep up the good work, Sundar\n",
      "keep up the good work, Sushma\n",
      "keep up the good work, Navya\n",
      "keep up the good work, Rajendar\n"
     ]
    }
   ],
   "source": [
    "for batman in student_names:\n",
    "    print(f\"keep up the good work, {batman}\")"
   ]
  },
  {
   "cell_type": "code",
   "execution_count": 22,
   "metadata": {},
   "outputs": [
    {
     "name": "stdout",
     "output_type": "stream",
     "text": [
      "keep up the good work, Raj\n",
      "I am looking forward to receive your pratice file everyday for each class, Raj\n",
      "keep up the good work, Sam\n",
      "I am looking forward to receive your pratice file everyday for each class, Sam\n",
      "keep up the good work, Sundar\n",
      "I am looking forward to receive your pratice file everyday for each class, Sundar\n",
      "keep up the good work, Sushma\n",
      "I am looking forward to receive your pratice file everyday for each class, Sushma\n",
      "keep up the good work, Navya\n",
      "I am looking forward to receive your pratice file everyday for each class, Navya\n",
      "keep up the good work, Rajendar\n",
      "I am looking forward to receive your pratice file everyday for each class, Rajendar\n"
     ]
    }
   ],
   "source": [
    "for student in student_names:\n",
    "    print(f\"keep up the good work, {student}\")\n",
    "    print(f\"I am looking forward to receive your pratice file everyday for each class, {student}\")"
   ]
  },
  {
   "cell_type": "code",
   "execution_count": 23,
   "metadata": {},
   "outputs": [
    {
     "name": "stdout",
     "output_type": "stream",
     "text": [
      "keep up the good work, Raj\n",
      "I am looking forward to receive your pratice file everyday for each class, Raj.\n",
      "\n",
      "keep up the good work, Sam\n",
      "I am looking forward to receive your pratice file everyday for each class, Sam.\n",
      "\n",
      "keep up the good work, Sundar\n",
      "I am looking forward to receive your pratice file everyday for each class, Sundar.\n",
      "\n",
      "keep up the good work, Sushma\n",
      "I am looking forward to receive your pratice file everyday for each class, Sushma.\n",
      "\n",
      "keep up the good work, Navya\n",
      "I am looking forward to receive your pratice file everyday for each class, Navya.\n",
      "\n",
      "keep up the good work, Rajendar\n",
      "I am looking forward to receive your pratice file everyday for each class, Rajendar.\n",
      "\n"
     ]
    }
   ],
   "source": [
    "for student in student_names:\n",
    "    print(f\"keep up the good work, {student}\")\n",
    "    print(f\"I am looking forward to receive your pratice file everyday for each class, {student}.\\n\")"
   ]
  },
  {
   "cell_type": "code",
   "execution_count": 26,
   "metadata": {},
   "outputs": [
    {
     "name": "stdout",
     "output_type": "stream",
     "text": [
      "keep up the good work, Raj\n",
      "I am looking forward to receive your pratice file everyday for each class, Raj.\n",
      "\n",
      "keep up the good work, Sam\n",
      "I am looking forward to receive your pratice file everyday for each class, Sam.\n",
      "\n",
      "keep up the good work, Sundar\n",
      "I am looking forward to receive your pratice file everyday for each class, Sundar.\n",
      "\n",
      "keep up the good work, Sushma\n",
      "I am looking forward to receive your pratice file everyday for each class, Sushma.\n",
      "\n",
      "keep up the good work, Navya\n",
      "I am looking forward to receive your pratice file everyday for each class, Navya.\n",
      "\n",
      "keep up the good work, Rajendar\n",
      "I am looking forward to receive your pratice file everyday for each class, Rajendar.\n",
      "\n",
      "Thank you all for showing interest in learning python language\n"
     ]
    }
   ],
   "source": [
    "for student in student_names:\n",
    "    print(f\"keep up the good work, {student}\")\n",
    "    print(f\"I am looking forward to receive your pratice file everyday for each class, {student}.\\n\")\n",
    "\n",
    "print(\"Thank you all for showing interest in learning python language\") # Printing out of the loop....!"
   ]
  },
  {
   "cell_type": "code",
   "execution_count": null,
   "metadata": {},
   "outputs": [],
   "source": []
  }
 ],
 "metadata": {
  "kernelspec": {
   "display_name": "Python 3",
   "language": "python",
   "name": "python3"
  },
  "language_info": {
   "codemirror_mode": {
    "name": "ipython",
    "version": 3
   },
   "file_extension": ".py",
   "mimetype": "text/x-python",
   "name": "python",
   "nbconvert_exporter": "python",
   "pygments_lexer": "ipython3",
   "version": "3.7.6"
  }
 },
 "nbformat": 4,
 "nbformat_minor": 4
}
