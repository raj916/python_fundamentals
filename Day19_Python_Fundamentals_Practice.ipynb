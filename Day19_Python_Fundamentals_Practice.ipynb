{
 "cells": [
  {
   "cell_type": "code",
   "execution_count": null,
   "metadata": {},
   "outputs": [],
   "source": [
    "Introduction to file handling in python:\n",
    "    \n",
    "Overview : \n",
    "    \n",
    "1.Loading the data \n",
    "\n",
    "2.Reading the data\n",
    "\n",
    "3.Overwriting the data\n",
    "\n",
    "4.Appending the data"
   ]
  },
  {
   "cell_type": "code",
   "execution_count": null,
   "metadata": {},
   "outputs": [],
   "source": []
  },
  {
   "cell_type": "code",
   "execution_count": null,
   "metadata": {},
   "outputs": [],
   "source": [
    "Req: loading and reading the data......!"
   ]
  },
  {
   "cell_type": "code",
   "execution_count": 3,
   "metadata": {},
   "outputs": [
    {
     "name": "stdout",
     "output_type": "stream",
     "text": [
      "12366 \n",
      "4756\n",
      "32332\n",
      "2323\n",
      "2121\n",
      "\n"
     ]
    }
   ],
   "source": [
    "with open('Digits_b24.txt') as file_object: # file_object is alias name\n",
    "    contents = file_object.read() # creation of variable(contents) \n",
    "print(contents)"
   ]
  },
  {
   "cell_type": "code",
   "execution_count": null,
   "metadata": {},
   "outputs": [],
   "source": []
  },
  {
   "cell_type": "code",
   "execution_count": null,
   "metadata": {},
   "outputs": [],
   "source": [
    "optimization of the code."
   ]
  },
  {
   "cell_type": "code",
   "execution_count": 6,
   "metadata": {},
   "outputs": [
    {
     "name": "stdout",
     "output_type": "stream",
     "text": [
      "12366 \n",
      "4756\n",
      "32332\n",
      "2323\n",
      "2121\n",
      "\n"
     ]
    }
   ],
   "source": [
    "filename = 'Digits_b24.txt'\n",
    "\n",
    "with open(filename) as f: # f is an alias name\n",
    "    contents = f.read() # creation of variable(contents) \n",
    "print(contents)"
   ]
  },
  {
   "cell_type": "code",
   "execution_count": null,
   "metadata": {},
   "outputs": [],
   "source": [
    "reading the data from the local machine -----> copy the file path."
   ]
  },
  {
   "cell_type": "code",
   "execution_count": 14,
   "metadata": {},
   "outputs": [
    {
     "name": "stdout",
     "output_type": "stream",
     "text": [
      "Faiyaz\n",
      "Raj\n",
      "Ameen\n",
      "Sneha\n",
      "Bhavani\n"
     ]
    }
   ],
   "source": [
    "with open('C:/Users/bogol/Desktop/Names_b24.txt') as f:\n",
    "    con = f.read()\n",
    "print(con)"
   ]
  }
 ],
 "metadata": {
  "kernelspec": {
   "display_name": "Python 3",
   "language": "python",
   "name": "python3"
  },
  "language_info": {
   "codemirror_mode": {
    "name": "ipython",
    "version": 3
   },
   "file_extension": ".py",
   "mimetype": "text/x-python",
   "name": "python",
   "nbconvert_exporter": "python",
   "pygments_lexer": "ipython3",
   "version": "3.7.6"
  }
 },
 "nbformat": 4,
 "nbformat_minor": 4
}
