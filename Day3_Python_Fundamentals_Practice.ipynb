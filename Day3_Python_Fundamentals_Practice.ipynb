{
 "cells": [
  {
   "cell_type": "code",
   "execution_count": null,
   "metadata": {},
   "outputs": [],
   "source": [
    "Introduction to f strings:"
   ]
  },
  {
   "cell_type": "code",
   "execution_count": null,
   "metadata": {},
   "outputs": [],
   "source": [
    "first_name=\"kiran\"\n",
    "last_name =\"teja\""
   ]
  },
  {
   "cell_type": "code",
   "execution_count": null,
   "metadata": {},
   "outputs": [],
   "source": [
    "#Req: To get the full name:"
   ]
  },
  {
   "cell_type": "code",
   "execution_count": null,
   "metadata": {},
   "outputs": [],
   "source": [
    "#General syntax of f strings:\n",
    "\n",
    "# x = f\"{placeholder1} {placeholder2}\" -----> # referencing point of the above variables.{}"
   ]
  },
  {
   "cell_type": "code",
   "execution_count": 28,
   "metadata": {},
   "outputs": [],
   "source": [
    "first_name = \"kiran\"\n",
    "last_name = \"teja\""
   ]
  },
  {
   "cell_type": "code",
   "execution_count": 29,
   "metadata": {},
   "outputs": [
    {
     "name": "stdout",
     "output_type": "stream",
     "text": [
      "kiran teja\n"
     ]
    }
   ],
   "source": [
    "full_name = f\"{first_name} {last_name}\" # To have the referencing of the above variable declared!\n",
    "print(full_name)"
   ]
  },
  {
   "cell_type": "code",
   "execution_count": 30,
   "metadata": {},
   "outputs": [
    {
     "name": "stdout",
     "output_type": "stream",
     "text": [
      "Kiran Teja\n"
     ]
    }
   ],
   "source": [
    "#enhancement of the code.\n",
    "\n",
    "print(full_name.title())"
   ]
  },
  {
   "cell_type": "code",
   "execution_count": null,
   "metadata": {},
   "outputs": [],
   "source": [
    "# further enhancement of the code....!"
   ]
  },
  {
   "cell_type": "code",
   "execution_count": 31,
   "metadata": {},
   "outputs": [
    {
     "name": "stdout",
     "output_type": "stream",
     "text": [
      "Hello,Kiran Teja\n"
     ]
    }
   ],
   "source": [
    "print(f\"Hello,{full_name.title()}\")"
   ]
  },
  {
   "cell_type": "code",
   "execution_count": null,
   "metadata": {},
   "outputs": [],
   "source": [
    "# Adding whitespaces to strings :----> by using delimiters \\n and \\t:"
   ]
  },
  {
   "cell_type": "code",
   "execution_count": 32,
   "metadata": {},
   "outputs": [
    {
     "name": "stdout",
     "output_type": "stream",
     "text": [
      "fav_languages:pythonrubycjavac++golangswift\n"
     ]
    }
   ],
   "source": [
    "print('fav_languages:pythonrubycjavac++golangswift')"
   ]
  },
  {
   "cell_type": "code",
   "execution_count": null,
   "metadata": {},
   "outputs": [],
   "source": [
    "# enhancement of the code:"
   ]
  },
  {
   "cell_type": "code",
   "execution_count": 1,
   "metadata": {},
   "outputs": [
    {
     "name": "stdout",
     "output_type": "stream",
     "text": [
      "fav_languages:\n",
      "python\n",
      "ruby\n",
      "c\n",
      "java\n",
      "c++\n",
      "golang\n",
      "swift\n"
     ]
    }
   ],
   "source": [
    "print('fav_languages:\\npython\\nruby\\nc\\njava\\nc++\\ngolang\\nswift') # \\n ---->newline delimiter "
   ]
  },
  {
   "cell_type": "code",
   "execution_count": null,
   "metadata": {},
   "outputs": [],
   "source": [
    "#further enhancement of the code:"
   ]
  },
  {
   "cell_type": "code",
   "execution_count": 2,
   "metadata": {},
   "outputs": [
    {
     "name": "stdout",
     "output_type": "stream",
     "text": [
      "fav_languages:\n",
      "\tpython\n",
      "\truby\n",
      "\tc\n",
      "\tjava\n",
      "\tc++\n",
      "\tgolang\n",
      "\tswift\n"
     ]
    }
   ],
   "source": [
    "print('fav_languages:\\n\\tpython\\n\\truby\\n\\tc\\n\\tjava\\n\\tc++\\n\\tgolang\\n\\tswift') # \\n ---->tab delimiter "
   ]
  },
  {
   "cell_type": "code",
   "execution_count": null,
   "metadata": {},
   "outputs": [],
   "source": []
  }
 ],
 "metadata": {
  "kernelspec": {
   "display_name": "Python 3",
   "language": "python",
   "name": "python3"
  },
  "language_info": {
   "codemirror_mode": {
    "name": "ipython",
    "version": 3
   },
   "file_extension": ".py",
   "mimetype": "text/x-python",
   "name": "python",
   "nbconvert_exporter": "python",
   "pygments_lexer": "ipython3",
   "version": "3.7.6"
  }
 },
 "nbformat": 4,
 "nbformat_minor": 4
}
